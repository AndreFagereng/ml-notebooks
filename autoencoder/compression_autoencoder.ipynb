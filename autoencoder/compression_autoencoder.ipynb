{
 "cells": [
  {
   "cell_type": "code",
   "execution_count": 1,
   "metadata": {},
   "outputs": [],
   "source": [
    "import torch\n",
    "import torchvision\n",
    "import torch.optim as optim\n",
    "\n",
    "from torch import nn\n",
    "from torchvision import transforms\n",
    "\n",
    "import matplotlib.pyplot as plt\n",
    "import numpy as np"
   ]
  },
  {
   "cell_type": "code",
   "execution_count": 17,
   "metadata": {},
   "outputs": [],
   "source": [
    "\n",
    "train_data = torchvision.datasets.MNIST(root='./mnist_data', train=True, transform=transforms.ToTensor(), download=True)\n",
    "test_data  = torchvision.datasets.MNIST(root='./mnist_data', train=False, transform=transforms.ToTensor(), download=True)\n",
    "\n",
    "train_load = torch.utils.data.DataLoader(dataset=train_data, shuffle=True, batch_size=32)\n",
    "test_load  = torch.utils.data.DataLoader(dataset=test_data, shuffle=False, batch_size=32)\n",
    "\n",
    "\n",
    "config = {\n",
    "    'learning_rate' : 0.01,\n",
    "    'optimizer'     : 'adam',\n",
    "    'epochs'        : 10\n",
    "}"
   ]
  },
  {
   "cell_type": "code",
   "execution_count": 18,
   "metadata": {},
   "outputs": [],
   "source": [
    "class Autoencoder(nn.Module):\n",
    "    \n",
    "    def __init__(self):\n",
    "        \n",
    "        super(Autoencoder, self).__init__()\n",
    "        \n",
    "        self.encoder = nn.Sequential(\n",
    "            nn.Linear(784, 128),\n",
    "            nn.Tanh(),\n",
    "            nn.Linear(128, 64),\n",
    "            nn.Tanh(),\n",
    "            nn.Linear(64, 32),\n",
    "            nn.Tanh(),\n",
    "            nn.Linear(32, 16),\n",
    "        )\n",
    "        \n",
    "        self.decoder = nn.Sequential(\n",
    "            nn.Linear(16, 32),\n",
    "            nn.Tanh(),\n",
    "            nn.Linear(32, 64),\n",
    "            nn.Tanh(),\n",
    "            nn.Linear(64, 128),\n",
    "            nn.Tanh(),\n",
    "            nn.Linear(128, 784),\n",
    "            nn.Sigmoid()\n",
    "        )\n",
    "        \n",
    "    def forward(self, x):\n",
    "        \n",
    "        enc = self.encoder(x)\n",
    "        dec = self.decoder(enc)\n",
    "        \n",
    "        return enc, dec\n",
    "        \n",
    "\n",
    "def optimizer(model, opt):\n",
    "    \n",
    "    if opt.lower() == 'adam':\n",
    "        optimizer = optim.Adam(model.parameters(), lr = config['learning_rate'])\n",
    "        \n",
    "    return optimizer\n",
    "    "
   ]
  },
  {
   "cell_type": "code",
   "execution_count": null,
   "metadata": {},
   "outputs": [],
   "source": []
  },
  {
   "cell_type": "code",
   "execution_count": 19,
   "metadata": {},
   "outputs": [
    {
     "name": "stdout",
     "output_type": "stream",
     "text": [
      "102.479\n",
      "90.034\n",
      "89.105\n",
      "89.81\n",
      "90.736\n",
      "91.965\n",
      "95.553\n",
      "95.43\n",
      "96.586\n",
      "101.659\n"
     ]
    },
    {
     "data": {
      "image/png": "[encoded data removed]",
      "text/plain": [
       "<Figure size 720x360 with 20 Axes>"
      ]
     },
     "metadata": {},
     "output_type": "display_data"
    }
   ],
   "source": [
    "\n",
    "autoencoder = Autoencoder()\n",
    "\n",
    "optim           = torch.optim.Adam(autoencoder.parameters(), config['learning_rate'])\n",
    "loss_function   = nn.MSELoss()\n",
    "\n",
    "\n",
    "for i in range(config['epochs']):\n",
    "\n",
    "    cost            = 0\n",
    "    \n",
    "    for batch_index, data in enumerate(train_load):\n",
    "        \n",
    "        digits = data[0].view(len(data[0]), 784)\n",
    "        target = data[1]\n",
    "        \n",
    "        encoded, decoded = autoencoder.forward(digits)\n",
    "        \n",
    "        loss = loss_function(decoded, digits)\n",
    "        cost += loss.item()\n",
    "        \n",
    "        optim.zero_grad() # Zero out gradients\n",
    "        loss.backward()   # Backward pass\n",
    "        optim.step()      # Apply gradients\n",
    "        \n",
    "        \n",
    "    print(round(cost, 3))\n",
    "    \n",
    "\n",
    "f, a = plt.subplots(2, 10, figsize=(10, 5))\n",
    "plt.ion() \n",
    "images = train_data.train_data[:10].type(torch.FloatTensor)\n",
    "\n",
    "for i in range(10):\n",
    "    \n",
    "    a[0][i].imshow(np.reshape(images[i].numpy(), (28,28)), cmap='gray')\n",
    "    a[1][i].set_xticks(())\n",
    "    a[1][i].set_yticks(())\n",
    "    a[0][i].set_xticks(())\n",
    "    a[0][i].set_yticks(())\n",
    "    \n",
    "enc, dec = autoencoder.forward(images.view(-1, 784))\n",
    "for i in range(10):\n",
    "    img = dec[i].detach().numpy()\n",
    "    a[1][i].imshow(np.reshape(img, (28,28)), cmap='gray')\n",
    "plt.draw(); plt.pause(0.05)"
   ]
  },
  {
   "cell_type": "code",
   "execution_count": null,
   "metadata": {},
   "outputs": [],
   "source": []
  }
 ],
 "metadata": {
  "kernelspec": {
   "display_name": "Python 3",
   "language": "python",
   "name": "python3"
  },
  "language_info": {
   "codemirror_mode": {
    "name": "ipython",
    "version": 3
   },
   "file_extension": ".py",
   "mimetype": "text/x-python",
   "name": "python",
   "nbconvert_exporter": "python",
   "pygments_lexer": "ipython3",
   "version": "3.6.7"
  }
 },
 "nbformat": 4,
 "nbformat_minor": 2
}
